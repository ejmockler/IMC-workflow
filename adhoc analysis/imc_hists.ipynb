{
 "cells": [
  {
   "cell_type": "code",
   "execution_count": 1,
   "metadata": {},
   "outputs": [],
   "source": [
    "import pandas as pd"
   ]
  },
  {
   "cell_type": "code",
   "execution_count": 2,
   "metadata": {},
   "outputs": [],
   "source": [
    "timepoint_file = \"/Users/noot/Documents/IMC/data/241218_IMC_Alun/IMC_241218_Alun_ROI_D7_M2_03_26.txt\"\n",
    "\n",
    "imc_timepoint_df = pd.read_csv(timepoint_file, sep=\"\\t\")"
   ]
  },
  {
   "cell_type": "code",
   "execution_count": 6,
   "metadata": {},
   "outputs": [
    {
     "data": {
      "text/plain": [
       "Index(['Start_push', 'End_push', 'Pushes_duration', 'X', 'Y', 'Z',\n",
       "       '80ArAr(ArAr80Di)', 'CD45(Y89Di)', '130Ba(Ba130Di)', '131Xe(Xe131Di)',\n",
       "       'Ly6G(Pr141Di)', 'CD11b(Nd143Di)', 'CD140a(Nd148Di)', 'CD140b(Eu151Di)',\n",
       "       'CD31(Sm154Di)', 'CD34(Er166Di)', 'CD206(Tm169Di)', 'CD44(Yb171Di)',\n",
       "       '190BCKG(BCKG190Di)', 'DNA1(Ir191Di)', 'DNA2(Ir193Di)'],\n",
       "      dtype='object')"
      ]
     },
     "execution_count": 6,
     "metadata": {},
     "output_type": "execute_result"
    }
   ],
   "source": [
    "imc_timepoint_df.columns"
   ]
  },
  {
   "cell_type": "code",
   "execution_count": null,
   "metadata": {},
   "outputs": [],
   "source": [
    "import pandas as pd\n",
    "import numpy as np\n",
    "import plotly.graph_objects as go\n",
    "from plotly.subplots import make_subplots\n",
    "from itertools import combinations\n",
    "import math\n",
    "\n",
    "# Get the protein channel columns\n",
    "protein_channels = [\n",
    "    'CD45(Y89Di)', 'Ly6G(Pr141Di)', 'CD11b(Nd143Di)', 'CD140a(Nd148Di)', \n",
    "    'CD140b(Eu151Di)', 'CD31(Sm154Di)', 'CD34(Er166Di)', 'CD206(Tm169Di)', \n",
    "    'CD44(Yb171Di)'\n",
    "]\n",
    "\n",
    "# Make sure all these columns exist in your dataframe\n",
    "valid_protein_channels = [col for col in protein_channels if col in imc_timepoint_df.columns]\n",
    "print(f\"Selected protein channels: {valid_protein_channels}\")\n",
    "print(f\"Number of channels: {len(valid_protein_channels)}\")\n",
    "\n",
    "# Generate all unique pairs of channels\n",
    "channel_pairs = list(combinations(valid_protein_channels, 2))\n",
    "num_pairs = len(channel_pairs)\n",
    "print(f\"Number of channel pairs: {num_pairs}\")\n",
    "\n",
    "# Calculate grid dimensions - make it rectangular for better viewing\n",
    "cols = 3  # You can adjust this\n",
    "rows = math.ceil(num_pairs / cols)\n",
    "\n",
    "# Create subplots\n",
    "fig = make_subplots(rows=rows, cols=cols, \n",
    "                   subplot_titles=[f\"{pair[0].split('(')[0]} vs {pair[1].split('(')[0]}\" for pair in channel_pairs])\n",
    "\n",
    "# Note: No downsampling - using the full dataset as requested\n",
    "# This might be slower but will show all data points\n",
    "\n",
    "# Add 2D histograms for each channel pair\n",
    "for idx, (channel1, channel2) in enumerate(channel_pairs):\n",
    "    row = idx // cols + 1\n",
    "    col = idx % cols + 1\n",
    "    \n",
    "    # Extract just the protein name for display\n",
    "    ch1_label = channel1.split('(')[0]\n",
    "    ch2_label = channel2.split('(')[0]\n",
    "    \n",
    "    fig.add_trace(\n",
    "        go.Histogram2d(\n",
    "            x=imc_timepoint_df[channel1],\n",
    "            y=imc_timepoint_df[channel2],\n",
    "            colorscale='Viridis',\n",
    "            nbinsx=50,\n",
    "            nbinsy=50,\n",
    "            showscale=False\n",
    "        ),\n",
    "        row=row, col=col\n",
    "    )\n",
    "    \n",
    "    # Minimal axes labels with just the protein name (without the element info)\n",
    "    fig.update_xaxes(title_text=ch1_label, title_font=dict(size=8), row=row, col=col)\n",
    "    fig.update_yaxes(title_text=ch2_label, title_font=dict(size=8), row=row, col=col)\n",
    "\n",
    "# Optimize layout\n",
    "fig.update_layout(\n",
    "    title=\"Protein Channel Pair Relationships (Full Dataset)\",\n",
    "    height=250 * rows,  \n",
    "    width=250 * cols,   \n",
    "    showlegend=False,\n",
    "    margin=dict(l=40, r=20, t=60, b=20)\n",
    ")\n",
    "\n",
    "# Display the figure\n",
    "fig.show()\n",
    "\n",
    "# Function to plot specific channel pairs on demand\n",
    "def plot_channel_pair(channel1, channel2, bins=100):\n",
    "    \"\"\"Plot a single channel pair with option to control bins\"\"\"\n",
    "    # Using full dataset without sampling\n",
    "    \n",
    "    # Extract protein names for cleaner display\n",
    "    ch1_label = channel1.split('(')[0]\n",
    "    ch2_label = channel2.split('(')[0]\n",
    "    \n",
    "    fig = go.Figure(go.Histogram2d(\n",
    "        x=imc_timepoint_df[channel1],\n",
    "        y=imc_timepoint_df[channel2],\n",
    "        colorscale='Viridis',\n",
    "        nbinsx=bins,\n",
    "        nbinsy=bins\n",
    "    ))\n",
    "    \n",
    "    fig.update_layout(\n",
    "        title=f\"{ch1_label} vs {ch2_label}\",\n",
    "        xaxis_title=ch1_label,\n",
    "        yaxis_title=ch2_label,\n",
    "        width=600,\n",
    "        height=600\n",
    "    )\n",
    "    \n",
    "    fig.show()\n",
    "    \n",
    "# Example usage with real column names:\n",
    "# plot_channel_pair('CD45(Y89Di)', 'CD11b(Nd143Di)', bins=50)"
   ]
  },
  {
   "cell_type": "code",
   "execution_count": null,
   "metadata": {},
   "outputs": [],
   "source": []
  }
 ],
 "metadata": {
  "kernelspec": {
   "display_name": "base",
   "language": "python",
   "name": "python3"
  },
  "language_info": {
   "codemirror_mode": {
    "name": "ipython",
    "version": 3
   },
   "file_extension": ".py",
   "mimetype": "text/x-python",
   "name": "python",
   "nbconvert_exporter": "python",
   "pygments_lexer": "ipython3",
   "version": "3.11.11"
  }
 },
 "nbformat": 4,
 "nbformat_minor": 2
}
